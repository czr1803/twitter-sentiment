{
 "cells": [
  {
   "cell_type": "code",
   "execution_count": 70,
   "metadata": {},
   "outputs": [],
   "source": [
    "#imports\n",
    "import numpy as np\n",
    "import pandas as pd\n",
    "import matplotlib.pyplot as plt\n",
    "import json\n",
    "import tweepy\n",
    "import time\n",
    "import seaborn as sns\n",
    "import os.path\n",
    "\n",
    "#initialize Sentiment Analyzer\n",
    "from vaderSentiment.vaderSentiment import SentimentIntensityAnalyzer\n",
    "analyzer = SentimentIntensityAnalyzer()\n",
    "\n",
    "#twitter API Keys (load from untracked_api_key.txt)\n",
    "\n",
    "with open('untracked_api_key_twitter.txt', 'r') as file_object:\n",
    "    #Text document that is untracked in project-one directory (NOT pushed to git) with API key\n",
    "    #Create a file called untracked_api_key.txt with your key and DO NOT add to git when commiting or pushing changes file_object.readline()\n",
    "    consumer_key  = str(file_object.readline()).strip()\n",
    "    consumer_secret = str(file_object.readline()).strip()\n",
    "    access_token = str(file_object.readline()).strip()\n",
    "    access_token_secret = str(file_object.readline()).strip()\n",
    "\n",
    "#tweepy API authentication\n",
    "auth = tweepy.OAuthHandler(consumer_key, consumer_secret)\n",
    "auth.set_access_token(access_token, access_token_secret)\n",
    "api = tweepy.API(auth, parser=tweepy.parsers.JSONParser())"
   ]
  },
  {
   "cell_type": "code",
   "execution_count": 71,
   "metadata": {},
   "outputs": [],
   "source": [
    "target_user_list = [\"@BBC\", \"@CBS\", \"@CNN\", \"@foxnews\",\"@nytimes\"]\n",
    "\n",
    "sentiments = []\n",
    "\n",
    "# Loop through 5 pages of tweets (total 100 tweets)\n",
    "for x in range(5):\n",
    "\n",
    "    for user in target_user_list:\n",
    "        counter = 1\n",
    "        public_tweets = api.user_timeline(target_user)\n",
    "\n",
    "        for tweet in public_tweets:\n",
    "            # Run Vader Analysis on each tweet\n",
    "            compound = analyzer.polarity_scores(tweet[\"text\"])[\"compound\"]\n",
    "            pos = analyzer.polarity_scores(tweet[\"text\"])[\"pos\"]\n",
    "            neu = analyzer.polarity_scores(tweet[\"text\"])[\"neu\"]\n",
    "            neg = analyzer.polarity_scores(tweet[\"text\"])[\"neg\"]\n",
    "            tweets_ago = counter\n",
    "\n",
    "            # Add sentiments for each tweet into an array\n",
    "            sentiments.append({\"User\":user,\n",
    "                               \"Date\": tweet[\"created_at\"], \n",
    "                               \"Tweet\": tweet[\"text\"],\n",
    "                               \"Compound\": compound,\n",
    "                               \"Positive\": pos,\n",
    "                               \"Negative\": neu,\n",
    "                               \"Neutral\": neg,\n",
    "                               \"Tweets Ago\": counter})\n",
    "          \n",
    "            # Add to counter \n",
    "            counter = counter + 1\n"
   ]
  },
  {
   "cell_type": "code",
   "execution_count": 76,
   "metadata": {},
   "outputs": [
    {
     "data": {
      "text/html": [
       "<div>\n",
       "<style>\n",
       "    .dataframe thead tr:only-child th {\n",
       "        text-align: right;\n",
       "    }\n",
       "\n",
       "    .dataframe thead th {\n",
       "        text-align: left;\n",
       "    }\n",
       "\n",
       "    .dataframe tbody tr th {\n",
       "        vertical-align: top;\n",
       "    }\n",
       "</style>\n",
       "<table border=\"1\" class=\"dataframe\">\n",
       "  <thead>\n",
       "    <tr style=\"text-align: right;\">\n",
       "      <th></th>\n",
       "      <th>User</th>\n",
       "      <th>Date</th>\n",
       "      <th>Tweet</th>\n",
       "      <th>Tweets Ago</th>\n",
       "      <th>Compound</th>\n",
       "      <th>Negative</th>\n",
       "      <th>Neutral</th>\n",
       "      <th>Positive</th>\n",
       "    </tr>\n",
       "  </thead>\n",
       "  <tbody>\n",
       "    <tr>\n",
       "      <th>0</th>\n",
       "      <td>@BBC</td>\n",
       "      <td>Thu Jan 11 00:06:50 +0000 2018</td>\n",
       "      <td>@PreciseWrds We're so glad to hear that! We'll...</td>\n",
       "      <td>1</td>\n",
       "      <td>0.8676</td>\n",
       "      <td>0.571</td>\n",
       "      <td>0.000</td>\n",
       "      <td>0.429</td>\n",
       "    </tr>\n",
       "    <tr>\n",
       "      <th>1</th>\n",
       "      <td>@BBC</td>\n",
       "      <td>Thu Jan 11 00:04:17 +0000 2018</td>\n",
       "      <td>@kendra_owusu Hey there, Kendra. Points purcha...</td>\n",
       "      <td>2</td>\n",
       "      <td>0.0000</td>\n",
       "      <td>1.000</td>\n",
       "      <td>0.000</td>\n",
       "      <td>0.000</td>\n",
       "    </tr>\n",
       "    <tr>\n",
       "      <th>2</th>\n",
       "      <td>@BBC</td>\n",
       "      <td>Thu Jan 11 00:03:30 +0000 2018</td>\n",
       "      <td>@phantasticfam We aim to please! Your love mea...</td>\n",
       "      <td>3</td>\n",
       "      <td>0.7348</td>\n",
       "      <td>0.710</td>\n",
       "      <td>0.061</td>\n",
       "      <td>0.229</td>\n",
       "    </tr>\n",
       "    <tr>\n",
       "      <th>3</th>\n",
       "      <td>@BBC</td>\n",
       "      <td>Thu Jan 11 00:03:22 +0000 2018</td>\n",
       "      <td>@dannyhoeft While our Tier Member standby prog...</td>\n",
       "      <td>4</td>\n",
       "      <td>0.4019</td>\n",
       "      <td>0.870</td>\n",
       "      <td>0.000</td>\n",
       "      <td>0.130</td>\n",
       "    </tr>\n",
       "    <tr>\n",
       "      <th>4</th>\n",
       "      <td>@BBC</td>\n",
       "      <td>Thu Jan 11 00:00:54 +0000 2018</td>\n",
       "      <td>@AmyInjaianWF While we can't make any promises...</td>\n",
       "      <td>5</td>\n",
       "      <td>0.4617</td>\n",
       "      <td>0.775</td>\n",
       "      <td>0.077</td>\n",
       "      <td>0.148</td>\n",
       "    </tr>\n",
       "  </tbody>\n",
       "</table>\n",
       "</div>"
      ],
      "text/plain": [
       "   User                            Date  \\\n",
       "0  @BBC  Thu Jan 11 00:06:50 +0000 2018   \n",
       "1  @BBC  Thu Jan 11 00:04:17 +0000 2018   \n",
       "2  @BBC  Thu Jan 11 00:03:30 +0000 2018   \n",
       "3  @BBC  Thu Jan 11 00:03:22 +0000 2018   \n",
       "4  @BBC  Thu Jan 11 00:00:54 +0000 2018   \n",
       "\n",
       "                                               Tweet  Tweets Ago  Compound  \\\n",
       "0  @PreciseWrds We're so glad to hear that! We'll...           1    0.8676   \n",
       "1  @kendra_owusu Hey there, Kendra. Points purcha...           2    0.0000   \n",
       "2  @phantasticfam We aim to please! Your love mea...           3    0.7348   \n",
       "3  @dannyhoeft While our Tier Member standby prog...           4    0.4019   \n",
       "4  @AmyInjaianWF While we can't make any promises...           5    0.4617   \n",
       "\n",
       "   Negative  Neutral  Positive  \n",
       "0     0.571    0.000     0.429  \n",
       "1     1.000    0.000     0.000  \n",
       "2     0.710    0.061     0.229  \n",
       "3     0.870    0.000     0.130  \n",
       "4     0.775    0.077     0.148  "
      ]
     },
     "execution_count": 76,
     "metadata": {},
     "output_type": "execute_result"
    }
   ],
   "source": [
    "#convert sentiment list into dataframe object\n",
    "sentiments_pd = pd.DataFrame.from_dict(sentiments)\n",
    "#reorder columns in dataframe\n",
    "sentiments_pd = sentiments_pd[['User','Date','Tweet','Tweets Ago','Compound','Negative','Neutral','Positive']]\n",
    "sentiments_pd.head()"
   ]
  },
  {
   "cell_type": "code",
   "execution_count": 69,
   "metadata": {},
   "outputs": [],
   "source": [
    "# save sentiment data to csv\n",
    "sentiments_pd.to_csv(\"TwitterMoodSentiment.csv\")\n"
   ]
  },
  {
   "cell_type": "code",
   "execution_count": 74,
   "metadata": {
    "scrolled": true
   },
   "outputs": [
    {
     "data": {
      "image/png": "[encoded data removed]",
      "text/plain": [
       "<matplotlib.figure.Figure at 0x2cdce7da898>"
      ]
     },
     "metadata": {},
     "output_type": "display_data"
    }
   ],
   "source": [
    "# Create plot\n",
    "#plt.plot(np.arange(len(sentiments_pd[\"Compound\"])),\n",
    "         #sentiments_pd[\"Compound\"], marker=\"o\", linewidth=0.5,\n",
    "         #alpha=0.8)\n",
    "plt.scatter(sentiments_pd[\"Tweets Ago\"],sentiments_pd[\"Compound\"])\n",
    "\n",
    "# # Incorporate the other graph properties\n",
    "plt.title(\"Sentiment Analysis of Media Tweets (%s)\" % (time.strftime(\"%x\")))\n",
    "plt.legend(sentiments_pd[\"User\"])\n",
    "plt.ylabel(\"Tweet Polarity\")\n",
    "plt.xlabel(\"Tweets Ago\")\n",
    "plt.show()"
   ]
  },
  {
   "cell_type": "code",
   "execution_count": null,
   "metadata": {
    "collapsed": true
   },
   "outputs": [],
   "source": []
  },
  {
   "cell_type": "code",
   "execution_count": null,
   "metadata": {
    "collapsed": true
   },
   "outputs": [],
   "source": []
  }
 ],
 "metadata": {
  "kernelspec": {
   "display_name": "Python 3",
   "language": "python",
   "name": "python3"
  },
  "language_info": {
   "codemirror_mode": {
    "name": "ipython",
    "version": 3
   },
   "file_extension": ".py",
   "mimetype": "text/x-python",
   "name": "python",
   "nbconvert_exporter": "python",
   "pygments_lexer": "ipython3",
   "version": "3.6.1"
  }
 },
 "nbformat": 4,
 "nbformat_minor": 2
}
