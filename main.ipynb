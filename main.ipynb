{
 "cells": [
  {
   "cell_type": "code",
   "execution_count": 48,
   "metadata": {},
   "outputs": [],
   "source": [
    "#imports\n",
    "import numpy as np\n",
    "import pandas as pd\n",
    "import matplotlib.pyplot as plt\n",
    "import json\n",
    "import tweepy\n",
    "import time\n",
    "import seaborn as sns\n",
    "import os.path\n",
    "\n",
    "#initialize Sentiment Analyzer\n",
    "from vaderSentiment.vaderSentiment import SentimentIntensityAnalyzer\n",
    "analyzer = SentimentIntensityAnalyzer()\n",
    "\n",
    "#twitter API Keys (load from untracked_api_key.txt)\n",
    "with open('untracked_api_key_twitter.txt', 'r') as file_object:\n",
    "    #Text document that is untracked in project-one directory (NOT pushed to git) with API key\n",
    "    #Create a file called untracked_api_key.txt with your key and DO NOT add to git when commiting or pushing changes file_object.readline()\n",
    "    consumer_key  = str(file_object.readline()).strip()\n",
    "    consumer_secret = str(file_object.readline()).strip()\n",
    "    access_token = str(file_object.readline()).strip()\n",
    "    access_token_secret = str(file_object.readline()).strip()\n",
    "\n",
    "#tweepy API authentication\n",
    "auth = tweepy.OAuthHandler(consumer_key, consumer_secret)\n",
    "auth.set_access_token(access_token, access_token_secret)\n",
    "api = tweepy.API(auth, parser=tweepy.parsers.JSONParser())"
   ]
  },
  {
   "cell_type": "code",
   "execution_count": 49,
   "metadata": {},
   "outputs": [],
   "source": [
    "target_user_list = [\"@BBC\", \"@CBS\", \"@CNN\", \"@foxnews\",\"@nytimes\"]\n",
    "sentiments = []\n",
    "\n",
    "# Loop through 5 pages of tweets (total 100 tweets)\n",
    "for x in range(5):\n",
    "\n",
    "    for user in target_user_list:\n",
    "        counter = 1\n",
    "        public_tweets = api.user_timeline(user)\n",
    "\n",
    "        for tweet in public_tweets:\n",
    "            # Run Vader Analysis on each tweet\n",
    "            compound = analyzer.polarity_scores(tweet[\"text\"])[\"compound\"]\n",
    "            pos = analyzer.polarity_scores(tweet[\"text\"])[\"pos\"]\n",
    "            neu = analyzer.polarity_scores(tweet[\"text\"])[\"neu\"]\n",
    "            neg = analyzer.polarity_scores(tweet[\"text\"])[\"neg\"]\n",
    "            tweets_ago = counter\n",
    "\n",
    "            # Add sentiments for each tweet into an array\n",
    "            sentiments.append({\"User\":user,\n",
    "                               \"Date\": tweet[\"created_at\"], \n",
    "                               \"Tweet\": tweet[\"text\"],\n",
    "                               \"Compound\": compound,\n",
    "                               \"Positive\": pos,\n",
    "                               \"Negative\": neu,\n",
    "                               \"Neutral\": neg,\n",
    "                               \"Tweets Ago\": counter})\n",
    "          \n",
    "            # Add to counter \n",
    "            counter = counter + 1\n"
   ]
  },
  {
   "cell_type": "code",
   "execution_count": 50,
   "metadata": {},
   "outputs": [
    {
     "data": {
      "text/html": [
       "<div>\n",
       "<style>\n",
       "    .dataframe thead tr:only-child th {\n",
       "        text-align: right;\n",
       "    }\n",
       "\n",
       "    .dataframe thead th {\n",
       "        text-align: left;\n",
       "    }\n",
       "\n",
       "    .dataframe tbody tr th {\n",
       "        vertical-align: top;\n",
       "    }\n",
       "</style>\n",
       "<table border=\"1\" class=\"dataframe\">\n",
       "  <thead>\n",
       "    <tr style=\"text-align: right;\">\n",
       "      <th></th>\n",
       "      <th>User</th>\n",
       "      <th>Date</th>\n",
       "      <th>Tweet</th>\n",
       "      <th>Tweets Ago</th>\n",
       "      <th>Compound</th>\n",
       "      <th>Negative</th>\n",
       "      <th>Neutral</th>\n",
       "      <th>Positive</th>\n",
       "    </tr>\n",
       "  </thead>\n",
       "  <tbody>\n",
       "    <tr>\n",
       "      <th>0</th>\n",
       "      <td>@BBC</td>\n",
       "      <td>Wed Jan 10 19:30:07 +0000 2018</td>\n",
       "      <td>You can count on @BBCComedy's Tracey Ullman fo...</td>\n",
       "      <td>1</td>\n",
       "      <td>0.0000</td>\n",
       "      <td>1.000</td>\n",
       "      <td>0.000</td>\n",
       "      <td>0.000</td>\n",
       "    </tr>\n",
       "    <tr>\n",
       "      <th>1</th>\n",
       "      <td>@BBC</td>\n",
       "      <td>Wed Jan 10 19:20:39 +0000 2018</td>\n",
       "      <td>RT @BBCNews: How polluted is your street? 😷\\n\\...</td>\n",
       "      <td>2</td>\n",
       "      <td>-0.4588</td>\n",
       "      <td>0.769</td>\n",
       "      <td>0.231</td>\n",
       "      <td>0.000</td>\n",
       "    </tr>\n",
       "    <tr>\n",
       "      <th>2</th>\n",
       "      <td>@BBC</td>\n",
       "      <td>Wed Jan 10 19:20:03 +0000 2018</td>\n",
       "      <td>RT @bbcthree: This is what happens when you br...</td>\n",
       "      <td>3</td>\n",
       "      <td>-0.4588</td>\n",
       "      <td>0.800</td>\n",
       "      <td>0.200</td>\n",
       "      <td>0.000</td>\n",
       "    </tr>\n",
       "    <tr>\n",
       "      <th>3</th>\n",
       "      <td>@BBC</td>\n",
       "      <td>Wed Jan 10 19:00:03 +0000 2018</td>\n",
       "      <td>😂 @OfficialTLC's Scrubs is great song for the ...</td>\n",
       "      <td>4</td>\n",
       "      <td>0.8481</td>\n",
       "      <td>0.647</td>\n",
       "      <td>0.000</td>\n",
       "      <td>0.353</td>\n",
       "    </tr>\n",
       "    <tr>\n",
       "      <th>4</th>\n",
       "      <td>@BBC</td>\n",
       "      <td>Wed Jan 10 18:32:03 +0000 2018</td>\n",
       "      <td>How much of your home's electricity bill goes ...</td>\n",
       "      <td>5</td>\n",
       "      <td>0.0000</td>\n",
       "      <td>1.000</td>\n",
       "      <td>0.000</td>\n",
       "      <td>0.000</td>\n",
       "    </tr>\n",
       "  </tbody>\n",
       "</table>\n",
       "</div>"
      ],
      "text/plain": [
       "   User                            Date  \\\n",
       "0  @BBC  Wed Jan 10 19:30:07 +0000 2018   \n",
       "1  @BBC  Wed Jan 10 19:20:39 +0000 2018   \n",
       "2  @BBC  Wed Jan 10 19:20:03 +0000 2018   \n",
       "3  @BBC  Wed Jan 10 19:00:03 +0000 2018   \n",
       "4  @BBC  Wed Jan 10 18:32:03 +0000 2018   \n",
       "\n",
       "                                               Tweet  Tweets Ago  Compound  \\\n",
       "0  You can count on @BBCComedy's Tracey Ullman fo...           1    0.0000   \n",
       "1  RT @BBCNews: How polluted is your street? 😷\\n\\...           2   -0.4588   \n",
       "2  RT @bbcthree: This is what happens when you br...           3   -0.4588   \n",
       "3  😂 @OfficialTLC's Scrubs is great song for the ...           4    0.8481   \n",
       "4  How much of your home's electricity bill goes ...           5    0.0000   \n",
       "\n",
       "   Negative  Neutral  Positive  \n",
       "0     1.000    0.000     0.000  \n",
       "1     0.769    0.231     0.000  \n",
       "2     0.800    0.200     0.000  \n",
       "3     0.647    0.000     0.353  \n",
       "4     1.000    0.000     0.000  "
      ]
     },
     "execution_count": 50,
     "metadata": {},
     "output_type": "execute_result"
    }
   ],
   "source": [
    "#convert sentiment list into dataframe object\n",
    "sentiments_pd = pd.DataFrame.from_dict(sentiments)\n",
    "#reorder columns in dataframe\n",
    "sentiments_pd = sentiments_pd[['User','Date','Tweet','Tweets Ago','Compound','Negative','Neutral','Positive']]\n",
    "\n",
    "sentiments_pd.head()"
   ]
  },
  {
   "cell_type": "code",
   "execution_count": 51,
   "metadata": {},
   "outputs": [],
   "source": [
    "# save sentiment data to csv\n",
    "sentiments_pd.to_csv(\"TwitterMoodSentiment.csv\")"
   ]
  },
  {
   "cell_type": "code",
   "execution_count": 52,
   "metadata": {},
   "outputs": [],
   "source": []
  },
  {
   "cell_type": "code",
   "execution_count": 79,
   "metadata": {
    "scrolled": true
   },
   "outputs": [
    {
     "data": {
      "image/png": "[encoded data removed]",
      "text/plain": [
       "<matplotlib.figure.Figure at 0x177be9a1d30>"
      ]
     },
     "metadata": {},
     "output_type": "display_data"
    }
   ],
   "source": [
    "#sentiments_pd_grouped = sentiments_pd.groupby(['User'])\n",
    "#sentiments_pd_grouped.count().head()\n",
    "#for user in sentiments_pd_grouped[\"User\"]:\n",
    "#plt.scatter(sentiments_pd_grouped[\"Tweets Ago\"],sentiments_pd_grouped[\"Compound\"])\n",
    "#plt.title(\"Sentiment Analysis of Media Tweets (%s)\" % (time.strftime(\"%x\")))\n",
    "#plt.legend(sentiments_pd[\"User\"])\n",
    "#plt.ylabel(\"Tweet Polarity\")\n",
    "#plt.xlabel(\"Tweets Ago\")\n",
    "#plt.show()\n",
    "\n",
    "sns.lmplot(\"Tweets Ago\", \"Compound\", data=sentiments_pd, hue='User', fit_reg=False)\n",
    "sns.plt.show()\n"
   ]
  },
  {
   "cell_type": "code",
   "execution_count": null,
   "metadata": {
    "collapsed": true
   },
   "outputs": [],
   "source": []
  },
  {
   "cell_type": "code",
   "execution_count": null,
   "metadata": {
    "collapsed": true
   },
   "outputs": [],
   "source": []
  }
 ],
 "metadata": {
  "kernelspec": {
   "display_name": "Python 3",
   "language": "python",
   "name": "python3"
  },
  "language_info": {
   "codemirror_mode": {
    "name": "ipython",
    "version": 3
   },
   "file_extension": ".py",
   "mimetype": "text/x-python",
   "name": "python",
   "nbconvert_exporter": "python",
   "pygments_lexer": "ipython3",
   "version": "3.6.1"
  }
 },
 "nbformat": 4,
 "nbformat_minor": 2
}
